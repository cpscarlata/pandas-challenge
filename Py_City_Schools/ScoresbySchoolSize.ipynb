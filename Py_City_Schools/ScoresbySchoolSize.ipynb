{
 "cells": [
  {
   "cell_type": "code",
   "execution_count": null,
   "id": "a23999e7",
   "metadata": {},
   "outputs": [],
   "source": [
    "import pandas as pd\n",
    "import numpy as np\n",
    "from pathlib import Path"
   ]
  },
  {
   "cell_type": "code",
   "execution_count": null,
   "id": "d60c3d2b",
   "metadata": {},
   "outputs": [],
   "source": [
    "csv_path1 = Path(\"Resources/schools_complete[1].csv\")"
   ]
  },
  {
   "cell_type": "code",
   "execution_count": null,
   "id": "ada8a04c",
   "metadata": {},
   "outputs": [],
   "source": [
    "csv_path2 = Path(\"Resources/students_complete[1].csv\")"
   ]
  },
  {
   "cell_type": "code",
   "execution_count": null,
   "id": "b46b0764",
   "metadata": {},
   "outputs": [],
   "source": [
    "school_data_to_load = csv_path1\n",
    "student_data_to_load = csv_path2\n",
    "\n",
    "school_data = pd.read_csv(school_data_to_load,encoding=\"utf-8\")\n",
    "student_data = pd.read_csv(student_data_to_load,encoding=\"utf-8\")"
   ]
  },
  {
   "cell_type": "code",
   "execution_count": null,
   "id": "85023988",
   "metadata": {},
   "outputs": [],
   "source": [
    "school_data_complete = pd.merge(student_data, school_data, how=\"left\", on=[\"school_name\", \"school_name\"])\n",
    "school_data_complete.head()"
   ]
  },
  {
   "cell_type": "code",
   "execution_count": null,
   "id": "8aa6b3e4",
   "metadata": {},
   "outputs": [],
   "source": []
  }
 ],
 "metadata": {
  "kernelspec": {
   "display_name": "Python 3 (ipykernel)",
   "language": "python",
   "name": "python3"
  },
  "language_info": {
   "codemirror_mode": {
    "name": "ipython",
    "version": 3
   },
   "file_extension": ".py",
   "mimetype": "text/x-python",
   "name": "python",
   "nbconvert_exporter": "python",
   "pygments_lexer": "ipython3",
   "version": "3.10.13"
  }
 },
 "nbformat": 4,
 "nbformat_minor": 5
}
